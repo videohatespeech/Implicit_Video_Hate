{
 "cells": [
  {
   "cell_type": "code",
   "execution_count": null,
   "id": "fd1f627c",
   "metadata": {},
   "outputs": [],
   "source": [
    "import cv2 as cv\n",
    "import os\n",
    "import pandas as pd"
   ]
  },
  {
   "cell_type": "code",
   "execution_count": null,
   "id": "3fd76471",
   "metadata": {},
   "outputs": [],
   "source": [
    "# Excel files containing the names and id of the video files\n",
    "df = pd.read_excel('/home/ankr/Notebook/HateMM/Own_Explicit_Hate_Videos.xlsx')"
   ]
  },
  {
   "cell_type": "code",
   "execution_count": null,
   "id": "d2d62bfa",
   "metadata": {},
   "outputs": [],
   "source": [
    "FOLDER_NAME = #path to the folder containing the videos"
   ]
  },
  {
   "cell_type": "code",
   "execution_count": null,
   "id": "844ddd73",
   "metadata": {},
   "outputs": [],
   "source": [
    "video_labels = []\n",
    "target_folder = #target folder where you want to store the image frames"
   ]
  },
  {
   "cell_type": "code",
   "execution_count": null,
   "id": "cc40f9aa",
   "metadata": {},
   "outputs": [],
   "source": [
    "video_name = 'EX_138'\n",
    "# Construct video file path\n",
    "video_path = os.path.join(FOLDER_NAME, 'Explicit Hate Videos', f\"{video_name}.mp4\")\n",
    "\n",
    "# Check if the video file can be opened\n",
    "vidcap = cv.VideoCapture(video_path)\n",
    "if not vidcap.isOpened():\n",
    "    print(f\"Error: Unable to open video file {video_path}\")\n",
    "    exit()\n",
    "\n",
    "# Create the target folder for frames if it doesn't exist\n",
    "frame_folder = os.path.join(target_folder, video_name)\n",
    "os.makedirs(frame_folder, exist_ok=True)\n",
    "\n",
    "# Initialize variables\n",
    "count = 0\n",
    "\n",
    "# Loop to extract frames\n",
    "while True:\n",
    "    vidcap.set(cv.CAP_PROP_POS_MSEC, (count * 1000))  # Set position in milliseconds\n",
    "    success, img = vidcap.read()\n",
    "    if not success:\n",
    "        print(\"Error: Unable to read frame or end of video reached\")\n",
    "        break\n",
    "\n",
    "    # Save frame as JPEG file\n",
    "    frame_filename = os.path.join(frame_folder, f\"frame_{count}.jpg\")\n",
    "    cv.imwrite(frame_filename, img)\n",
    "    print(f\"Saved frame {count}: {frame_filename}\")\n",
    "\n",
    "    count += 1\n",
    "\n",
    "# Release the video capture object\n",
    "vidcap.release()"
   ]
  },
  {
   "cell_type": "code",
   "execution_count": null,
   "id": "0a0558fe",
   "metadata": {
    "scrolled": false
   },
   "outputs": [],
   "source": [
    "#Number of image frames in each video\n",
    "no_of_frames = []\n",
    "\n",
    "for file_name in (os.listdir(target_folder)):\n",
    "    no_of_frames.append(len(os.listdir(target_folder + '/' + file_name)))"
   ]
  }
 ],
 "metadata": {
  "kernelspec": {
   "display_name": "Python 3 (ipykernel)",
   "language": "python",
   "name": "python3"
  },
  "language_info": {
   "codemirror_mode": {
    "name": "ipython",
    "version": 3
   },
   "file_extension": ".py",
   "mimetype": "text/x-python",
   "name": "python",
   "nbconvert_exporter": "python",
   "pygments_lexer": "ipython3",
   "version": "3.9.13"
  }
 },
 "nbformat": 4,
 "nbformat_minor": 5
}
