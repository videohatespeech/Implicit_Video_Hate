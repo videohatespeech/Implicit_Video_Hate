{
 "cells": [
  {
   "cell_type": "code",
   "execution_count": null,
   "id": "bb7f8966",
   "metadata": {},
   "outputs": [],
   "source": [
    "import os\n",
    "os.environ[\"CUDA_VISIBLE_DEVICES\"]=\"-1\""
   ]
  },
  {
   "cell_type": "code",
   "execution_count": null,
   "id": "a5f6b322",
   "metadata": {},
   "outputs": [],
   "source": [
    "import cv2 \n",
    "import pandas as pd\n",
    "import numpy as np\n",
    "import os\n",
    "import tensorflow as tf\n",
    "import matplotlib.pyplot as plt \n",
    "from nrclex import NRCLex\n",
    "from vaderSentiment.vaderSentiment import SentimentIntensityAnalyzer"
   ]
  },
  {
   "cell_type": "code",
   "execution_count": null,
   "id": "a0261f92",
   "metadata": {},
   "outputs": [],
   "source": [
    "FOLDER_NAME = '/path/to/folder/containing/transcriptions'\n",
    "CATEGORY = 'Explicit Hate Videos' #change to Implicit Hate Videos, Non Hate Videos as required"
   ]
  },
  {
   "cell_type": "code",
   "execution_count": null,
   "id": "2e6cfefc",
   "metadata": {},
   "outputs": [],
   "source": [
    "iht_df = pd.read_csv(f'/{FOLDER_NAME}/transcriptions_IMPLICIT_HATE_VIDEOS.csv')\n",
    "nht_df = pd.read_csv(f'/{FOLDER_NAME}/transcriptions_NON_HATE_VIDEOS.csv')\n",
    "eht_df = pd.read_csv(f'/{FOLDER_NAME}/transcriptions_EXPLICIT_HATE_VIDEOS.csv')"
   ]
  },
  {
   "cell_type": "code",
   "execution_count": null,
   "id": "397d4703",
   "metadata": {},
   "outputs": [],
   "source": [
    "emotions = []\n",
    "for i in range(len(iht_df)):\n",
    "    emotion = NRCLex(str(iht_df.iloc[i][\"Transcription\"]))\n",
    "    emotions.append(emotion)"
   ]
  },
  {
   "cell_type": "code",
   "execution_count": null,
   "id": "33b4cf1f",
   "metadata": {},
   "outputs": [],
   "source": [
    "top_emotion = []\n",
    "for i in range(len(emotions)):\n",
    "    top_emo = []\n",
    "    for j in range(len(emotions[i].top_emotions)):\n",
    "        top_emo.append(emotions[i].top_emotions[j][0])\n",
    "    top_emotion.append(top_emo)"
   ]
  },
  {
   "cell_type": "code",
   "execution_count": null,
   "id": "95d1ef44",
   "metadata": {},
   "outputs": [],
   "source": [
    "np.save(f'/path/to/folder/storing/emotion features/Raw_emotions_{CATEGORY}', top_emotion)"
   ]
  },
  {
   "cell_type": "code",
   "execution_count": null,
   "id": "049d356a",
   "metadata": {},
   "outputs": [],
   "source": [
    "emo = [\"fear\", \"anger\", \"anticipation\", \"trust\", \"surprise\", \"positive\", \"negative\", \"sadness\", \"disgust\", \"joy\"]\n",
    "final_emotion_score = []\n",
    "for i in range(len(emotions)):\n",
    "    emotion_scores = []\n",
    "    for j in emo:\n",
    "        if(j in top_emotion[i]):\n",
    "            idx = top_emotion[i].index(j)\n",
    "            emotion_scores.append(emotions[i].top_emotions[idx][1])\n",
    "        else:\n",
    "            emotion_scores.append(0)\n",
    "    final_emotion_score.append(emotion_scores)"
   ]
  },
  {
   "cell_type": "code",
   "execution_count": null,
   "id": "b7655c22",
   "metadata": {},
   "outputs": [],
   "source": [
    "#Storing the scores in original order\n",
    "np.save(f\"/path/to/folder/storing/emotion scores/Raw_emotion_scores_{CATEGORY}/\", final_emotion_score)"
   ]
  },
  {
   "cell_type": "code",
   "execution_count": null,
   "id": "5203e38b",
   "metadata": {},
   "outputs": [],
   "source": [
    "def sentiment_scores(sentence):\n",
    "    sid_obj = SentimentIntensityAnalyzer()\n",
    "    sentiment_dict = sid_obj.polarity_scores(sentence)\n",
    "    print(\"Overall sentiment dictionary is : \", sentiment_dict)\n",
    "    print(\"sentence was rated as \", sentiment_dict['neg']*100, \"% Negative\")\n",
    "    print(\"sentence was rated as \", sentiment_dict['neu']*100, \"% Neutral\")\n",
    "    print(\"sentence was rated as \", sentiment_dict['pos']*100, \"% Positive\")\n",
    "    print(\"Sentence Overall Rated As\", end = \" \")\n",
    "    sentiment_scores = []\n",
    "    sentiment_scores.append(sentiment_dict['pos']) \n",
    "    sentiment_scores.append(sentiment_dict['neg'])\n",
    "    sentiment_scores.append(sentiment_dict['neu'])\n",
    "    return sentiment_scores"
   ]
  },
  {
   "cell_type": "code",
   "execution_count": null,
   "id": "904c4b19",
   "metadata": {},
   "outputs": [],
   "source": [
    "final_sentiment_score = []\n",
    "for i in range(len(nht_df)):\n",
    "    final_sentiment_score.append(sentiment_scores(str(nht_df.iloc[i][\"Transcription\"])))"
   ]
  },
  {
   "cell_type": "code",
   "execution_count": null,
   "id": "20672bf8",
   "metadata": {},
   "outputs": [],
   "source": [
    "#Storing the scores in original order\n",
    "np.save(f\"/path/to/fodler/storing/sentiment scores/Raw_sentiment_scores_{CATEGORY}\", final_sentiment_score)"
   ]
  }
 ],
 "metadata": {
  "kernelspec": {
   "display_name": "Python 3 (ipykernel)",
   "language": "python",
   "name": "python3"
  },
  "language_info": {
   "codemirror_mode": {
    "name": "ipython",
    "version": 3
   },
   "file_extension": ".py",
   "mimetype": "text/x-python",
   "name": "python",
   "nbconvert_exporter": "python",
   "pygments_lexer": "ipython3",
   "version": "3.9.13"
  }
 },
 "nbformat": 4,
 "nbformat_minor": 5
}
